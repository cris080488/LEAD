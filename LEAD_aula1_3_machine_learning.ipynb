{
  "nbformat": 4,
  "nbformat_minor": 0,
  "metadata": {
    "colab": {
      "name": "LEAD_aula1.3_machine_learning.ipynb",
      "provenance": [],
      "authorship_tag": "ABX9TyO9dd3g4JDYCyAL1wXBXsWx",
      "include_colab_link": true
    },
    "kernelspec": {
      "name": "python3",
      "display_name": "Python 3"
    },
    "language_info": {
      "name": "python"
    }
  },
  "cells": [
    {
      "cell_type": "markdown",
      "metadata": {
        "id": "view-in-github",
        "colab_type": "text"
      },
      "source": [
        "<a href=\"https://colab.research.google.com/github/cris080488/LEAD/blob/main/LEAD_aula1_3_machine_learning.ipynb\" target=\"_parent\"><img src=\"https://colab.research.google.com/assets/colab-badge.svg\" alt=\"Open In Colab\"/></a>"
      ]
    },
    {
      "cell_type": "code",
      "source": [
        "import pandas as pd"
      ],
      "metadata": {
        "id": "VfuYEOz7pCtB"
      },
      "execution_count": null,
      "outputs": []
    },
    {
      "cell_type": "code",
      "execution_count": null,
      "metadata": {
        "id": "y2rOMhZ8o6Tz"
      },
      "outputs": [],
      "source": [
        "data = pd.read_table('fruit_data_with_colors_miss.txt')\n",
        "\n",
        "data"
      ]
    },
    {
      "cell_type": "code",
      "source": [
        "data = pd.read_table('fruit_data_with_colors_miss.txt',na_values=['.','?'])\n",
        "\n",
        "data"
      ],
      "metadata": {
        "id": "4nhcDoxOpiot"
      },
      "execution_count": null,
      "outputs": []
    },
    {
      "cell_type": "code",
      "source": [
        "data.fillna(0)"
      ],
      "metadata": {
        "id": "kWZJ2XzRptAc"
      },
      "execution_count": null,
      "outputs": []
    },
    {
      "cell_type": "code",
      "source": [
        "data.describe()"
      ],
      "metadata": {
        "id": "HBYLNU6Dp1ju"
      },
      "execution_count": null,
      "outputs": []
    },
    {
      "cell_type": "code",
      "source": [
        "data.fillna(data.mean())"
      ],
      "metadata": {
        "id": "oiui8VIXp60k"
      },
      "execution_count": null,
      "outputs": []
    },
    {
      "cell_type": "code",
      "source": [
        "data['fruit_subtype'].value_counts().argmax()"
      ],
      "metadata": {
        "id": "fGEAVmcip7uS"
      },
      "execution_count": null,
      "outputs": []
    },
    {
      "cell_type": "code",
      "source": [
        "data = data.fillna(data.mean())\n",
        "\n",
        "data"
      ],
      "metadata": {
        "id": "JG1_F4yhp7ra"
      },
      "execution_count": null,
      "outputs": []
    },
    {
      "cell_type": "code",
      "source": [
        "data['fruit_subtype'] = data['fruit_subtype'].fillna(data['fruit_subtype'].value_counts().argmax())\n",
        "\n",
        "data"
      ],
      "metadata": {
        "id": "eaj8Z96Ep7oc"
      },
      "execution_count": null,
      "outputs": []
    },
    {
      "cell_type": "code",
      "source": [
        "data = pd.read_table('fruit_data_with_colors_miss.txt',na_values=['.','?'])\n",
        "\n",
        "data"
      ],
      "metadata": {
        "id": "Bs4c5Rebp7lL"
      },
      "execution_count": null,
      "outputs": []
    },
    {
      "cell_type": "code",
      "source": [
        "data.shape[0]"
      ],
      "metadata": {
        "id": "jO_mwKNop7iE"
      },
      "execution_count": null,
      "outputs": []
    },
    {
      "cell_type": "code",
      "source": [
        "data.isnull().sum()"
      ],
      "metadata": {
        "id": "GNLePdc8p7ca"
      },
      "execution_count": null,
      "outputs": []
    },
    {
      "cell_type": "code",
      "source": [
        "data.isnull().sum()/data.shape[0] * 100"
      ],
      "metadata": {
        "id": "-C1FEAt6p7ZA"
      },
      "execution_count": null,
      "outputs": []
    },
    {
      "cell_type": "code",
      "source": [
        "data = data[['fruit_label','fruit_name','fruit_subtype','width','height','color_score']]\n",
        "\n",
        "data"
      ],
      "metadata": {
        "id": "FmOo8ExCp6u2"
      },
      "execution_count": null,
      "outputs": []
    },
    {
      "cell_type": "code",
      "source": [
        "data.describe()\n",
        "\n",
        "#(valor - min) / (max-min)\n",
        "\n",
        "(25 - 12) / (59-12)\n",
        "\n",
        "(59-12) / (59-12)"
      ],
      "metadata": {
        "id": "Q3IFteJrqtTI"
      },
      "execution_count": null,
      "outputs": []
    },
    {
      "cell_type": "code",
      "source": [
        "from sklearn.preprocessing import MinMaxScaler"
      ],
      "metadata": {
        "id": "S5FlS2B9qtP5"
      },
      "execution_count": null,
      "outputs": []
    },
    {
      "cell_type": "code",
      "source": [
        "mm = MinMaxScaler()\n",
        "mm.fit(data)\n",
        "\n",
        "data_escala = mm.transform(data)\n",
        "data_escala\n"
      ],
      "metadata": {
        "id": "P6faRE7QqtM4"
      },
      "execution_count": null,
      "outputs": []
    },
    {
      "cell_type": "code",
      "source": [
        "\n",
        "data = pd.read_table('fruit_data_with_colors_miss.txt',na_values=['.','?'])\n",
        "data = data.fillna(data.mean())"
      ],
      "metadata": {
        "id": "9E4uxSCzqtFr"
      },
      "execution_count": null,
      "outputs": []
    },
    {
      "cell_type": "code",
      "source": [
        "macas = data[data['fruit_name'] == 'apple']\n",
        "\n",
        "macas.describe()"
      ],
      "metadata": {
        "id": "NJfmiWeXqs68"
      },
      "execution_count": null,
      "outputs": []
    },
    {
      "cell_type": "code",
      "source": [
        "est = macas['mass'].describe()\n",
        "\n",
        "macas[(macas['mass'] > est['mean'] + (est['std']) * 2)]\n",
        "\n",
        "macas[(macas['mass'] < est['mean'] - (est['std']) * 2)]"
      ],
      "metadata": {
        "id": "UslHpRN4rrqe"
      },
      "execution_count": null,
      "outputs": []
    }
  ]
}